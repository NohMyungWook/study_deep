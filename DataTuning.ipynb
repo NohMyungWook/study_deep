{
  "nbformat": 4,
  "nbformat_minor": 0,
  "metadata": {
    "colab": {
      "name": "DataTuning.ipynb",
      "provenance": [],
      "authorship_tag": "ABX9TyO+QZj7oGH0TyTYUA3LVbqN",
      "include_colab_link": true
    },
    "kernelspec": {
      "name": "python3",
      "display_name": "Python 3"
    }
  },
  "cells": [
    {
      "cell_type": "markdown",
      "metadata": {
        "id": "view-in-github",
        "colab_type": "text"
      },
      "source": [
        "<a href=\"https://colab.research.google.com/github/NohMyungWook/study_deep/blob/main/DataTuning.ipynb\" target=\"_parent\"><img src=\"https://colab.research.google.com/assets/colab-badge.svg\" alt=\"Open In Colab\"/></a>"
      ]
    },
    {
      "cell_type": "code",
      "metadata": {
        "colab": {
          "base_uri": "https://localhost:8080/"
        },
        "id": "2TixLsgHNhk9",
        "outputId": "a8e7e4e7-a5c2-4699-ce4a-b7d878065348"
      },
      "source": [
        "import matplotlib.pyplot as plt\r\n",
        "from sklearn.datasets import load_breast_cancer\r\n",
        "from sklearn.model_selection import train_test_split\r\n",
        "from sklearn.linear_model import SGDClassifier\r\n",
        "\r\n",
        "cancer = load_breast_cancer()\r\n",
        "x = cancer.data\r\n",
        "y = cancer.target\r\n",
        "x_train_all, x_test, y_train_all, y_test = train_test_split(x, y, stratify=y, test_size=0.2, random_state=42)\r\n",
        "x_train, x_val, y_train, y_val = train_test_split(x_train_all, y_train_all, stratify=y_train_all, test_size=0.2, random_state=42)\r\n",
        "\r\n",
        "sgd = SGDClassifier(loss='log', random_state=42)\r\n",
        "sgd.fit(x_train_all, y_train_all)\r\n",
        "sgd.score(x_val, y_val)"
      ],
      "execution_count": 12,
      "outputs": [
        {
          "output_type": "execute_result",
          "data": {
            "text/plain": [
              "0.8791208791208791"
            ]
          },
          "metadata": {
            "tags": []
          },
          "execution_count": 12
        }
      ]
    }
  ]
}